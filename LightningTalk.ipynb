{
 "cells": [
  {
   "cell_type": "code",
   "execution_count": 5,
   "metadata": {},
   "outputs": [],
   "source": [
    "from lxml import html\n",
    "import requests\n",
    "import pandas as pd\n",
    "from urllib.request import (\n",
    "    urlopen, urlparse, urlunparse, urlretrieve)\n",
    "from bs4 import BeautifulSoup as bs\n",
    "import os \n",
    "import re\n"
   ]
  },
  {
   "cell_type": "code",
   "execution_count": 8,
   "metadata": {},
   "outputs": [
    {
     "name": "stdout",
     "output_type": "stream",
     "text": [
      "https://www.othaimmarkets.com/grocery/rice-sugar.html?p=2\n",
      "https://www.othaimmarkets.com/grocery/rice-sugar.html?p=3\n",
      "https://www.othaimmarkets.com/grocery/rice-sugar.html?p=4\n",
      "https://www.othaimmarkets.com/grocery/rice-sugar.html?p=5\n"
     ]
    }
   ],
   "source": [
    "\n",
    "\n",
    "# Enter the url, extract the content and put it to rice-sugar file.\n",
    "url = 'http://www.othaimmarkets.com/grocery/rice-sugar.html'\n",
    "soup = bs(urlopen(url), \"lxml\")\n",
    "html = soup.prettify(\"utf-8\")\n",
    "open('rice-sugar.html', 'wb').write(html)\n",
    "\n",
    "\n",
    "\n",
    "# Extracting all products in the page \n",
    "product_div = soup.findAll(\"div\", {\"class\": \"product\"})\n",
    "\n",
    "# Extract content of other pages\n",
    "pagesContainer = soup.find('div', {'class': 'listing_header_row2'})\n",
    "pagesContainer.find('a', {'class': 'small_icon'}).decompose()\n",
    "\n",
    "for a in pagesContainer.find_all('a', href=True):\n",
    "    url = a['href']\n",
    "    print(url)\n",
    "    soup = bs(urlopen(url), \"lxml\") # Parser type (Similar to html)\n",
    "    html += soup.prettify(\"utf-8\") # Convert it to bytes because of Arabic words\n",
    "    \n",
    "    product_div += soup.findAll(\"div\", {\"class\": \"product\"})\n",
    "    content = soup.prettify(\"utf-8\")\n",
    "\n",
    "open('rice-sugar.html', 'wb').write(html)\n",
    "\n",
    "\n",
    "list_of_rows= [[] for i in range(len(product_div))]\n",
    "row = 0\n",
    "col = 0\n",
    "for product in product_div:\n",
    "\n",
    "    for title in product.find_all('a'):\n",
    "        if (title.text.strip() != \"\"):\n",
    "            list_of_rows[col].append(title.text.strip().replace('\\n\\n', '\\n'))\n",
    "    for price in product.find_all('span', {'class': 'price'}):\n",
    "        if (price.text.strip() != \"\"):\n",
    "            removedWhitespce  = re.sub(r'^\\s*$', '', price.text.strip())\n",
    "            list_of_rows[col].append(price.text.strip().replace('\\n\\n', '\\n'))\n",
    "    col += 1\n",
    "\n",
    "\n",
    "downloaded_df = pd.DataFrame(list_of_rows, columns = ['Product Name', 'Actual Price', 'Discont Price'])\n",
    "downloaded_df.to_csv('Alothaim.csv', encoding='utf-8-sig')"
   ]
  },
  {
   "cell_type": "code",
   "execution_count": null,
   "metadata": {},
   "outputs": [],
   "source": []
  },
  {
   "cell_type": "code",
   "execution_count": null,
   "metadata": {},
   "outputs": [],
   "source": []
  }
 ],
 "metadata": {
  "kernelspec": {
   "display_name": "Python 3",
   "language": "python",
   "name": "python3"
  },
  "language_info": {
   "codemirror_mode": {
    "name": "ipython",
    "version": 3
   },
   "file_extension": ".py",
   "mimetype": "text/x-python",
   "name": "python",
   "nbconvert_exporter": "python",
   "pygments_lexer": "ipython3",
   "version": "3.6.5"
  }
 },
 "nbformat": 4,
 "nbformat_minor": 2
}
